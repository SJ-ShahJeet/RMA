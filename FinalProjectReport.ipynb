{
 "cells": [
  {
   "cell_type": "markdown",
   "id": "4e7d16dc-7b16-433d-8088-5a1001280b8b",
   "metadata": {},
   "source": [
    "<center><h1><b> Real Estate Trends in the States</b></h1></center>\n",
    "\n",
    "## Authors\n",
    "* Sundara Swani Didde, sudi2327@colorado.edu\n",
    "* Jeet Ashwin Shah,    jesh5710@colorado.edu\n",
    "\n",
    "## Introduction\n",
    "<p style='text-align: justify;'>Real estate has always played a dominant role in society and also has become expensive with the growing economy. From choosing the right city and the right time to invest to the demographic aspects that determine the value of the investment later in the years. Hence, knowing the market prices gives many an opportunity to negotiate and avoid overpaying.</p>\n",
    "\n",
    "## Goal Of The Project\n",
    "How can data science be applied for real estate market analysis?\n",
    "\n",
    "## Initial Setup\n",
    "We will begin by importing several essential libraries, including `pandas`, `numpy`, `plotly.express`, and `matplotlib`. These libraries are indispensable for tasks related to data manipulation, data cleansing, and data visualization."
   ]
  },
  {
   "cell_type": "code",
   "execution_count": 58,
   "id": "09abe8e3",
   "metadata": {},
   "outputs": [],
   "source": [
    "import pandas as pd \n",
    "import numpy as np\n",
    "import plotly.express as px\n",
    "import matplotlib.pyplot as plt"
   ]
  },
  {
   "cell_type": "markdown",
   "id": "0db448b1",
   "metadata": {},
   "source": [
    "## Dataset\n",
    "Data provided by Redfin, a national real estate brokerage. Redfin has direct access to data from multiple local listing services. The data provided gives us the most reliable data on the housing market. This dataseet consists of 58 features. For this project, we have used the following 4 main features for our analysis:\n",
    "\n",
    "`state`: This comprises the names of the states within the United States of America.\n",
    "\n",
    "`property_type`: This categorizes properties into five major types: 'Townhouse', 'Single Family Residential', 'Multi-Family (2-4 Unit)', 'Condo/Co-op', and 'All Residential'.\n",
    "\n",
    "`median_sale_price`: Within this, you will find the median sale prices of houses that were sold within the specified state.\n",
    "\n",
    "`homes_sold`: This provides information regarding the number of houses that were sold.\n",
    "\n",
    "\n",
    "Link for the Dataset : https://www.redfin.com/news/data-center/"
   ]
  },
  {
   "cell_type": "code",
   "execution_count": 59,
   "id": "60252cfc",
   "metadata": {},
   "outputs": [
    {
     "data": {
      "text/html": [
       "<div>\n",
       "<style scoped>\n",
       "    .dataframe tbody tr th:only-of-type {\n",
       "        vertical-align: middle;\n",
       "    }\n",
       "\n",
       "    .dataframe tbody tr th {\n",
       "        vertical-align: top;\n",
       "    }\n",
       "\n",
       "    .dataframe thead th {\n",
       "        text-align: right;\n",
       "    }\n",
       "</style>\n",
       "<table border=\"1\" class=\"dataframe\">\n",
       "  <thead>\n",
       "    <tr style=\"text-align: right;\">\n",
       "      <th></th>\n",
       "      <th>period_begin</th>\n",
       "      <th>period_end</th>\n",
       "      <th>period_duration</th>\n",
       "      <th>region_type</th>\n",
       "      <th>region_type_id</th>\n",
       "      <th>table_id</th>\n",
       "      <th>is_seasonally_adjusted</th>\n",
       "      <th>region</th>\n",
       "      <th>city</th>\n",
       "      <th>state</th>\n",
       "      <th>...</th>\n",
       "      <th>sold_above_list_yoy</th>\n",
       "      <th>price_drops</th>\n",
       "      <th>price_drops_mom</th>\n",
       "      <th>price_drops_yoy</th>\n",
       "      <th>off_market_in_two_weeks</th>\n",
       "      <th>off_market_in_two_weeks_mom</th>\n",
       "      <th>off_market_in_two_weeks_yoy</th>\n",
       "      <th>parent_metro_region</th>\n",
       "      <th>parent_metro_region_metro_code</th>\n",
       "      <th>last_updated</th>\n",
       "    </tr>\n",
       "  </thead>\n",
       "  <tbody>\n",
       "    <tr>\n",
       "      <th>0</th>\n",
       "      <td>2012-08-01</td>\n",
       "      <td>2012-08-31</td>\n",
       "      <td>30</td>\n",
       "      <td>state</td>\n",
       "      <td>4</td>\n",
       "      <td>33</td>\n",
       "      <td>f</td>\n",
       "      <td>Iowa</td>\n",
       "      <td>NaN</td>\n",
       "      <td>Iowa</td>\n",
       "      <td>...</td>\n",
       "      <td>0.066667</td>\n",
       "      <td>NaN</td>\n",
       "      <td>NaN</td>\n",
       "      <td>NaN</td>\n",
       "      <td>0.000000</td>\n",
       "      <td>0.000000</td>\n",
       "      <td>0.000000</td>\n",
       "      <td>Midwest Region</td>\n",
       "      <td>NaN</td>\n",
       "      <td>2023-09-10 14:22:34</td>\n",
       "    </tr>\n",
       "    <tr>\n",
       "      <th>1</th>\n",
       "      <td>2021-02-01</td>\n",
       "      <td>2021-02-28</td>\n",
       "      <td>30</td>\n",
       "      <td>state</td>\n",
       "      <td>4</td>\n",
       "      <td>42</td>\n",
       "      <td>f</td>\n",
       "      <td>Virginia</td>\n",
       "      <td>NaN</td>\n",
       "      <td>Virginia</td>\n",
       "      <td>...</td>\n",
       "      <td>0.227633</td>\n",
       "      <td>0.142857</td>\n",
       "      <td>0.064117</td>\n",
       "      <td>0.060213</td>\n",
       "      <td>0.305455</td>\n",
       "      <td>-0.130319</td>\n",
       "      <td>-0.295264</td>\n",
       "      <td>South Region</td>\n",
       "      <td>NaN</td>\n",
       "      <td>2023-09-10 14:22:34</td>\n",
       "    </tr>\n",
       "    <tr>\n",
       "      <th>2</th>\n",
       "      <td>2021-04-01</td>\n",
       "      <td>2021-04-30</td>\n",
       "      <td>30</td>\n",
       "      <td>state</td>\n",
       "      <td>4</td>\n",
       "      <td>49</td>\n",
       "      <td>f</td>\n",
       "      <td>Minnesota</td>\n",
       "      <td>NaN</td>\n",
       "      <td>Minnesota</td>\n",
       "      <td>...</td>\n",
       "      <td>0.156430</td>\n",
       "      <td>0.138517</td>\n",
       "      <td>-0.006933</td>\n",
       "      <td>-0.036480</td>\n",
       "      <td>0.648354</td>\n",
       "      <td>-0.013401</td>\n",
       "      <td>0.214179</td>\n",
       "      <td>Midwest Region</td>\n",
       "      <td>NaN</td>\n",
       "      <td>2023-09-10 14:22:34</td>\n",
       "    </tr>\n",
       "    <tr>\n",
       "      <th>3</th>\n",
       "      <td>2015-10-01</td>\n",
       "      <td>2015-10-31</td>\n",
       "      <td>30</td>\n",
       "      <td>state</td>\n",
       "      <td>4</td>\n",
       "      <td>2</td>\n",
       "      <td>f</td>\n",
       "      <td>Missouri</td>\n",
       "      <td>NaN</td>\n",
       "      <td>Missouri</td>\n",
       "      <td>...</td>\n",
       "      <td>0.012556</td>\n",
       "      <td>0.217196</td>\n",
       "      <td>0.001813</td>\n",
       "      <td>0.217111</td>\n",
       "      <td>0.130876</td>\n",
       "      <td>-0.002263</td>\n",
       "      <td>0.108191</td>\n",
       "      <td>Midwest Region</td>\n",
       "      <td>NaN</td>\n",
       "      <td>2023-09-10 14:22:34</td>\n",
       "    </tr>\n",
       "    <tr>\n",
       "      <th>4</th>\n",
       "      <td>2014-01-01</td>\n",
       "      <td>2014-01-31</td>\n",
       "      <td>30</td>\n",
       "      <td>state</td>\n",
       "      <td>4</td>\n",
       "      <td>6</td>\n",
       "      <td>f</td>\n",
       "      <td>Nebraska</td>\n",
       "      <td>NaN</td>\n",
       "      <td>Nebraska</td>\n",
       "      <td>...</td>\n",
       "      <td>0.011383</td>\n",
       "      <td>NaN</td>\n",
       "      <td>NaN</td>\n",
       "      <td>NaN</td>\n",
       "      <td>0.378996</td>\n",
       "      <td>0.072626</td>\n",
       "      <td>0.046567</td>\n",
       "      <td>Midwest Region</td>\n",
       "      <td>NaN</td>\n",
       "      <td>2023-09-10 14:22:34</td>\n",
       "    </tr>\n",
       "  </tbody>\n",
       "</table>\n",
       "<p>5 rows × 58 columns</p>\n",
       "</div>"
      ],
      "text/plain": [
       "  period_begin  period_end  period_duration region_type  region_type_id  \\\n",
       "0   2012-08-01  2012-08-31               30       state               4   \n",
       "1   2021-02-01  2021-02-28               30       state               4   \n",
       "2   2021-04-01  2021-04-30               30       state               4   \n",
       "3   2015-10-01  2015-10-31               30       state               4   \n",
       "4   2014-01-01  2014-01-31               30       state               4   \n",
       "\n",
       "   table_id is_seasonally_adjusted     region  city      state  ...  \\\n",
       "0        33                      f       Iowa   NaN       Iowa  ...   \n",
       "1        42                      f   Virginia   NaN   Virginia  ...   \n",
       "2        49                      f  Minnesota   NaN  Minnesota  ...   \n",
       "3         2                      f   Missouri   NaN   Missouri  ...   \n",
       "4         6                      f   Nebraska   NaN   Nebraska  ...   \n",
       "\n",
       "  sold_above_list_yoy price_drops  price_drops_mom  price_drops_yoy  \\\n",
       "0            0.066667         NaN              NaN              NaN   \n",
       "1            0.227633    0.142857         0.064117         0.060213   \n",
       "2            0.156430    0.138517        -0.006933        -0.036480   \n",
       "3            0.012556    0.217196         0.001813         0.217111   \n",
       "4            0.011383         NaN              NaN              NaN   \n",
       "\n",
       "   off_market_in_two_weeks  off_market_in_two_weeks_mom  \\\n",
       "0                 0.000000                     0.000000   \n",
       "1                 0.305455                    -0.130319   \n",
       "2                 0.648354                    -0.013401   \n",
       "3                 0.130876                    -0.002263   \n",
       "4                 0.378996                     0.072626   \n",
       "\n",
       "   off_market_in_two_weeks_yoy  parent_metro_region  \\\n",
       "0                     0.000000       Midwest Region   \n",
       "1                    -0.295264         South Region   \n",
       "2                     0.214179       Midwest Region   \n",
       "3                     0.108191       Midwest Region   \n",
       "4                     0.046567       Midwest Region   \n",
       "\n",
       "   parent_metro_region_metro_code         last_updated  \n",
       "0                             NaN  2023-09-10 14:22:34  \n",
       "1                             NaN  2023-09-10 14:22:34  \n",
       "2                             NaN  2023-09-10 14:22:34  \n",
       "3                             NaN  2023-09-10 14:22:34  \n",
       "4                             NaN  2023-09-10 14:22:34  \n",
       "\n",
       "[5 rows x 58 columns]"
      ]
     },
     "execution_count": 59,
     "metadata": {},
     "output_type": "execute_result"
    }
   ],
   "source": [
    "df = pd.read_csv('state_market_tracker.tsv000',sep='\\t')\n",
    "df.head()"
   ]
  },
  {
   "cell_type": "markdown",
   "id": "2d28b34d",
   "metadata": {},
   "source": [
    "## Data Cleaning\n",
    "* In the cleaning process, we will remove the additional features which are not required for our analysis and remove all null values."
   ]
  },
  {
   "cell_type": "code",
   "execution_count": 60,
   "id": "7946968b",
   "metadata": {},
   "outputs": [
    {
     "data": {
      "text/html": [
       "<div>\n",
       "<style scoped>\n",
       "    .dataframe tbody tr th:only-of-type {\n",
       "        vertical-align: middle;\n",
       "    }\n",
       "\n",
       "    .dataframe tbody tr th {\n",
       "        vertical-align: top;\n",
       "    }\n",
       "\n",
       "    .dataframe thead th {\n",
       "        text-align: right;\n",
       "    }\n",
       "</style>\n",
       "<table border=\"1\" class=\"dataframe\">\n",
       "  <thead>\n",
       "    <tr style=\"text-align: right;\">\n",
       "      <th></th>\n",
       "      <th>period_begin</th>\n",
       "      <th>state</th>\n",
       "      <th>state_code</th>\n",
       "      <th>property_type</th>\n",
       "      <th>median_sale_price</th>\n",
       "      <th>homes_sold</th>\n",
       "    </tr>\n",
       "  </thead>\n",
       "  <tbody>\n",
       "    <tr>\n",
       "      <th>0</th>\n",
       "      <td>2012-08-01</td>\n",
       "      <td>Iowa</td>\n",
       "      <td>IA</td>\n",
       "      <td>Multi-Family (2-4 Unit)</td>\n",
       "      <td>58500</td>\n",
       "      <td>15</td>\n",
       "    </tr>\n",
       "    <tr>\n",
       "      <th>1</th>\n",
       "      <td>2021-02-01</td>\n",
       "      <td>Virginia</td>\n",
       "      <td>VA</td>\n",
       "      <td>Multi-Family (2-4 Unit)</td>\n",
       "      <td>225300</td>\n",
       "      <td>44</td>\n",
       "    </tr>\n",
       "    <tr>\n",
       "      <th>2</th>\n",
       "      <td>2021-04-01</td>\n",
       "      <td>Minnesota</td>\n",
       "      <td>MN</td>\n",
       "      <td>All Residential</td>\n",
       "      <td>308300</td>\n",
       "      <td>6959</td>\n",
       "    </tr>\n",
       "    <tr>\n",
       "      <th>3</th>\n",
       "      <td>2015-10-01</td>\n",
       "      <td>Missouri</td>\n",
       "      <td>MO</td>\n",
       "      <td>Single Family Residential</td>\n",
       "      <td>154600</td>\n",
       "      <td>4358</td>\n",
       "    </tr>\n",
       "    <tr>\n",
       "      <th>4</th>\n",
       "      <td>2014-01-01</td>\n",
       "      <td>Nebraska</td>\n",
       "      <td>NE</td>\n",
       "      <td>All Residential</td>\n",
       "      <td>135100</td>\n",
       "      <td>965</td>\n",
       "    </tr>\n",
       "  </tbody>\n",
       "</table>\n",
       "</div>"
      ],
      "text/plain": [
       "  period_begin      state state_code              property_type  \\\n",
       "0   2012-08-01       Iowa         IA    Multi-Family (2-4 Unit)   \n",
       "1   2021-02-01   Virginia         VA    Multi-Family (2-4 Unit)   \n",
       "2   2021-04-01  Minnesota         MN            All Residential   \n",
       "3   2015-10-01   Missouri         MO  Single Family Residential   \n",
       "4   2014-01-01   Nebraska         NE            All Residential   \n",
       "\n",
       "   median_sale_price  homes_sold  \n",
       "0              58500          15  \n",
       "1             225300          44  \n",
       "2             308300        6959  \n",
       "3             154600        4358  \n",
       "4             135100         965  "
      ]
     },
     "execution_count": 60,
     "metadata": {},
     "output_type": "execute_result"
    }
   ],
   "source": [
    "df=df[['period_begin','state','state_code','property_type','median_sale_price','homes_sold']]\n",
    "df.head()"
   ]
  },
  {
   "cell_type": "markdown",
   "id": "5942744f",
   "metadata": {},
   "source": [
    "* For our analysis, we have exclusively considered data from the year 2022."
   ]
  },
  {
   "cell_type": "code",
   "execution_count": 61,
   "id": "567f8f33",
   "metadata": {},
   "outputs": [
    {
     "data": {
      "text/html": [
       "<div>\n",
       "<style scoped>\n",
       "    .dataframe tbody tr th:only-of-type {\n",
       "        vertical-align: middle;\n",
       "    }\n",
       "\n",
       "    .dataframe tbody tr th {\n",
       "        vertical-align: top;\n",
       "    }\n",
       "\n",
       "    .dataframe thead th {\n",
       "        text-align: right;\n",
       "    }\n",
       "</style>\n",
       "<table border=\"1\" class=\"dataframe\">\n",
       "  <thead>\n",
       "    <tr style=\"text-align: right;\">\n",
       "      <th></th>\n",
       "      <th>period_begin</th>\n",
       "      <th>state</th>\n",
       "      <th>state_code</th>\n",
       "      <th>property_type</th>\n",
       "      <th>median_sale_price</th>\n",
       "      <th>homes_sold</th>\n",
       "    </tr>\n",
       "  </thead>\n",
       "  <tbody>\n",
       "    <tr>\n",
       "      <th>150</th>\n",
       "      <td>2022-01-01</td>\n",
       "      <td>Missouri</td>\n",
       "      <td>MO</td>\n",
       "      <td>Townhouse</td>\n",
       "      <td>189100</td>\n",
       "      <td>44</td>\n",
       "    </tr>\n",
       "    <tr>\n",
       "      <th>288</th>\n",
       "      <td>2022-01-01</td>\n",
       "      <td>Tennessee</td>\n",
       "      <td>TN</td>\n",
       "      <td>Single Family Residential</td>\n",
       "      <td>334100</td>\n",
       "      <td>6339</td>\n",
       "    </tr>\n",
       "    <tr>\n",
       "      <th>505</th>\n",
       "      <td>2022-01-01</td>\n",
       "      <td>Nebraska</td>\n",
       "      <td>NE</td>\n",
       "      <td>Multi-Family (2-4 Unit)</td>\n",
       "      <td>479500</td>\n",
       "      <td>11</td>\n",
       "    </tr>\n",
       "    <tr>\n",
       "      <th>668</th>\n",
       "      <td>2022-01-01</td>\n",
       "      <td>Missouri</td>\n",
       "      <td>MO</td>\n",
       "      <td>Condo/Co-op</td>\n",
       "      <td>189200</td>\n",
       "      <td>338</td>\n",
       "    </tr>\n",
       "    <tr>\n",
       "      <th>772</th>\n",
       "      <td>2022-01-01</td>\n",
       "      <td>Mississippi</td>\n",
       "      <td>MS</td>\n",
       "      <td>All Residential</td>\n",
       "      <td>234600</td>\n",
       "      <td>1297</td>\n",
       "    </tr>\n",
       "  </tbody>\n",
       "</table>\n",
       "</div>"
      ],
      "text/plain": [
       "    period_begin        state state_code              property_type  \\\n",
       "150   2022-01-01     Missouri         MO                  Townhouse   \n",
       "288   2022-01-01    Tennessee         TN  Single Family Residential   \n",
       "505   2022-01-01     Nebraska         NE    Multi-Family (2-4 Unit)   \n",
       "668   2022-01-01     Missouri         MO                Condo/Co-op   \n",
       "772   2022-01-01  Mississippi         MS            All Residential   \n",
       "\n",
       "     median_sale_price  homes_sold  \n",
       "150             189100          44  \n",
       "288             334100        6339  \n",
       "505             479500          11  \n",
       "668             189200         338  \n",
       "772             234600        1297  "
      ]
     },
     "execution_count": 61,
     "metadata": {},
     "output_type": "execute_result"
    }
   ],
   "source": [
    "df=df[(df['period_begin']=='2022-01-01')]\n",
    "df.head()"
   ]
  },
  {
   "cell_type": "markdown",
   "id": "13322792",
   "metadata": {},
   "source": [
    "* Now, we will generate a new DataFrame for our analysis using the cleaned data."
   ]
  },
  {
   "cell_type": "code",
   "execution_count": 62,
   "id": "966759a3",
   "metadata": {},
   "outputs": [
    {
     "data": {
      "text/html": [
       "<div>\n",
       "<style scoped>\n",
       "    .dataframe tbody tr th:only-of-type {\n",
       "        vertical-align: middle;\n",
       "    }\n",
       "\n",
       "    .dataframe tbody tr th {\n",
       "        vertical-align: top;\n",
       "    }\n",
       "\n",
       "    .dataframe thead th {\n",
       "        text-align: right;\n",
       "    }\n",
       "</style>\n",
       "<table border=\"1\" class=\"dataframe\">\n",
       "  <thead>\n",
       "    <tr style=\"text-align: right;\">\n",
       "      <th></th>\n",
       "      <th>state</th>\n",
       "      <th>property_type</th>\n",
       "      <th>median_sale_price</th>\n",
       "      <th>homes_sold</th>\n",
       "    </tr>\n",
       "  </thead>\n",
       "  <tbody>\n",
       "    <tr>\n",
       "      <th>150</th>\n",
       "      <td>Missouri</td>\n",
       "      <td>Townhouse</td>\n",
       "      <td>189100</td>\n",
       "      <td>44</td>\n",
       "    </tr>\n",
       "    <tr>\n",
       "      <th>288</th>\n",
       "      <td>Tennessee</td>\n",
       "      <td>Single Family Residential</td>\n",
       "      <td>334100</td>\n",
       "      <td>6339</td>\n",
       "    </tr>\n",
       "    <tr>\n",
       "      <th>505</th>\n",
       "      <td>Nebraska</td>\n",
       "      <td>Multi-Family (2-4 Unit)</td>\n",
       "      <td>479500</td>\n",
       "      <td>11</td>\n",
       "    </tr>\n",
       "    <tr>\n",
       "      <th>668</th>\n",
       "      <td>Missouri</td>\n",
       "      <td>Condo/Co-op</td>\n",
       "      <td>189200</td>\n",
       "      <td>338</td>\n",
       "    </tr>\n",
       "    <tr>\n",
       "      <th>772</th>\n",
       "      <td>Mississippi</td>\n",
       "      <td>All Residential</td>\n",
       "      <td>234600</td>\n",
       "      <td>1297</td>\n",
       "    </tr>\n",
       "  </tbody>\n",
       "</table>\n",
       "</div>"
      ],
      "text/plain": [
       "           state              property_type  median_sale_price  homes_sold\n",
       "150     Missouri                  Townhouse             189100          44\n",
       "288    Tennessee  Single Family Residential             334100        6339\n",
       "505     Nebraska    Multi-Family (2-4 Unit)             479500          11\n",
       "668     Missouri                Condo/Co-op             189200         338\n",
       "772  Mississippi            All Residential             234600        1297"
      ]
     },
     "execution_count": 62,
     "metadata": {},
     "output_type": "execute_result"
    }
   ],
   "source": [
    "df1=df[['state','property_type','median_sale_price','homes_sold']]\n",
    "df1.head()"
   ]
  },
  {
   "cell_type": "markdown",
   "id": "37a9dffc",
   "metadata": {},
   "source": [
    "## Data Manipulation\n",
    "Before proceeding with data visualizations, we will concentrate exclusively on one property type: `Single Family Residential`, and arrange the data accordingly. This approach aims to enhance the clarity and simplicity of data interpretation."
   ]
  },
  {
   "cell_type": "code",
   "execution_count": 63,
   "id": "84baea22",
   "metadata": {},
   "outputs": [
    {
     "data": {
      "text/html": [
       "<div>\n",
       "<style scoped>\n",
       "    .dataframe tbody tr th:only-of-type {\n",
       "        vertical-align: middle;\n",
       "    }\n",
       "\n",
       "    .dataframe tbody tr th {\n",
       "        vertical-align: top;\n",
       "    }\n",
       "\n",
       "    .dataframe thead th {\n",
       "        text-align: right;\n",
       "    }\n",
       "</style>\n",
       "<table border=\"1\" class=\"dataframe\">\n",
       "  <thead>\n",
       "    <tr style=\"text-align: right;\">\n",
       "      <th></th>\n",
       "      <th>period_begin</th>\n",
       "      <th>state</th>\n",
       "      <th>state_code</th>\n",
       "      <th>property_type</th>\n",
       "      <th>median_sale_price</th>\n",
       "      <th>homes_sold</th>\n",
       "    </tr>\n",
       "  </thead>\n",
       "  <tbody>\n",
       "    <tr>\n",
       "      <th>10373</th>\n",
       "      <td>2022-01-01</td>\n",
       "      <td>Columbia</td>\n",
       "      <td>DC</td>\n",
       "      <td>Single Family Residential</td>\n",
       "      <td>849900</td>\n",
       "      <td>82</td>\n",
       "    </tr>\n",
       "    <tr>\n",
       "      <th>8089</th>\n",
       "      <td>2022-01-01</td>\n",
       "      <td>North Dakota</td>\n",
       "      <td>ND</td>\n",
       "      <td>Single Family Residential</td>\n",
       "      <td>266600</td>\n",
       "      <td>179</td>\n",
       "    </tr>\n",
       "    <tr>\n",
       "      <th>31493</th>\n",
       "      <td>2022-01-01</td>\n",
       "      <td>West Virginia</td>\n",
       "      <td>WV</td>\n",
       "      <td>Single Family Residential</td>\n",
       "      <td>294600</td>\n",
       "      <td>287</td>\n",
       "    </tr>\n",
       "    <tr>\n",
       "      <th>29942</th>\n",
       "      <td>2022-01-01</td>\n",
       "      <td>Vermont</td>\n",
       "      <td>VT</td>\n",
       "      <td>Single Family Residential</td>\n",
       "      <td>347200</td>\n",
       "      <td>457</td>\n",
       "    </tr>\n",
       "    <tr>\n",
       "      <th>11253</th>\n",
       "      <td>2022-01-01</td>\n",
       "      <td>Delaware</td>\n",
       "      <td>DE</td>\n",
       "      <td>Single Family Residential</td>\n",
       "      <td>338900</td>\n",
       "      <td>461</td>\n",
       "    </tr>\n",
       "  </tbody>\n",
       "</table>\n",
       "</div>"
      ],
      "text/plain": [
       "      period_begin          state state_code              property_type  \\\n",
       "10373   2022-01-01       Columbia         DC  Single Family Residential   \n",
       "8089    2022-01-01   North Dakota         ND  Single Family Residential   \n",
       "31493   2022-01-01  West Virginia         WV  Single Family Residential   \n",
       "29942   2022-01-01        Vermont         VT  Single Family Residential   \n",
       "11253   2022-01-01       Delaware         DE  Single Family Residential   \n",
       "\n",
       "       median_sale_price  homes_sold  \n",
       "10373             849900          82  \n",
       "8089              266600         179  \n",
       "31493             294600         287  \n",
       "29942             347200         457  \n",
       "11253             338900         461  "
      ]
     },
     "execution_count": 63,
     "metadata": {},
     "output_type": "execute_result"
    }
   ],
   "source": [
    "df = df[(df['property_type']=='Single Family Residential')]\n",
    "sorted_df = df.sort_values(by='homes_sold')\n",
    "sorted_df.head()"
   ]
  },
  {
   "cell_type": "markdown",
   "id": "0391eb2c",
   "metadata": {},
   "source": [
    "## Exploring Data Through Visualization\n",
    "\n",
    "Let us conduct a comparison of sales within the `Single Family Residential` property type across different states."
   ]
  },
  {
   "cell_type": "code",
   "execution_count": 64,
   "id": "f702637b",
   "metadata": {},
   "outputs": [
    {
     "data": {
      "text/plain": [
       "Text(0.5, 1.0, 'Single Family Residential')"
      ]
     },
     "execution_count": 64,
     "metadata": {},
     "output_type": "execute_result"
    },
    {
     "data": {
      "image/png": "[encoded data removed]",
      "text/plain": [
       "<Figure size 1600x1600 with 1 Axes>"
      ]
     },
     "metadata": {},
     "output_type": "display_data"
    }
   ],
   "source": [
    "plt.figure(figsize=(16, 16))\n",
    "plt.barh(sorted_df['state'],sorted_df['homes_sold'],color='coral')\n",
    "plt.xlabel('Number Of Houses Sold')\n",
    "plt.title('Single Family Residential')"
   ]
  },
  {
   "cell_type": "markdown",
   "id": "82383d57",
   "metadata": {},
   "source": [
    "**From the graph above we understand that most sales of `Single Family Residential` occurs in Florida and least in Columbia for the year 2022.**"
   ]
  },
  {
   "cell_type": "markdown",
   "id": "a409c0e9",
   "metadata": {},
   "source": [
    "Similarly, we will examine the trends in median house prices for properties sold in various states."
   ]
  },
  {
   "cell_type": "code",
   "execution_count": 65,
   "id": "719e5ffa",
   "metadata": {},
   "outputs": [
    {
     "data": {
      "application/vnd.plotly.v1+json": {
       "config": {
        "plotlyServerURL": "https://plot.ly"
       },
       "data": [
        {
         "coloraxis": "coloraxis",
         "geo": "geo",
         "hovertemplate": "state_code=%{location}<br>median_sale_price=%{z}<extra></extra>",
         "locationmode": "USA-states",
         "locations": [
          "TN",
          "MO",
          "MN",
          "OR",
          "WI",
          "NV",
          "HI",
          "NH",
          "CT",
          "SD",
          "MS",
          "CO",
          "ND",
          "KS",
          "NY",
          "IN",
          "UT",
          "DC",
          "CA",
          "LA",
          "DE",
          "NE",
          "PA",
          "RI",
          "MA",
          "NM",
          "FL",
          "KY",
          "SC",
          "AK",
          "VA",
          "IL",
          "NC",
          "IA",
          "NJ",
          "TX",
          "AL",
          "AZ",
          "OK",
          "OH",
          "VT",
          "ME",
          "WA",
          "MI",
          "MT",
          "WV",
          "MD",
          "ID",
          "AR",
          "GA"
         ],
         "name": "",
         "type": "choropleth",
         "z": [
          334100,
          222800,
          316700,
          477100,
          243300,
          450800,
          899300,
          403900,
          365600,
          296500,
          235300,
          573000,
          266600,
          228300,
          405700,
          211900,
          561500,
          849900,
          737700,
          242700,
          338900,
          246900,
          258700,
          394600,
          527400,
          315200,
          394500,
          217700,
          342400,
          345700,
          370200,
          244700,
          324000,
          199700,
          423400,
          323400,
          250600,
          439200,
          210600,
          196300,
          347200,
          306500,
          553500,
          209000,
          472000,
          294600,
          434800,
          460200,
          222800,
          328300
         ]
        }
       ],
       "layout": {
        "coloraxis": {
         "colorbar": {
          "title": {
           "text": "median_sale_price"
          }
         },
         "colorscale": [
          [
           0,
           "#fde725"
          ],
          [
           0.1111111111111111,
           "#b5de2b"
          ],
          [
           0.2222222222222222,
           "#6ece58"
          ],
          [
           0.3333333333333333,
           "#35b779"
          ],
          [
           0.4444444444444444,
           "#1f9e89"
          ],
          [
           0.5555555555555556,
           "#26828e"
          ],
          [
           0.6666666666666666,
           "#31688e"
          ],
          [
           0.7777777777777778,
           "#3e4989"
          ],
          [
           0.8888888888888888,
           "#482878"
          ],
          [
           1,
           "#440154"
          ]
         ]
        },
        "geo": {
         "center": {},
         "domain": {
          "x": [
           0,
           1
          ],
          "y": [
           0,
           1
          ]
         },
         "scope": "usa"
        },
        "legend": {
         "tracegroupgap": 0
        },
        "margin": {
         "t": 60
        },
        "template": {
         "data": {
          "bar": [
           {
            "error_x": {
             "color": "#2a3f5f"
            },
            "error_y": {
             "color": "#2a3f5f"
            },
            "marker": {
             "line": {
              "color": "#E5ECF6",
              "width": 0.5
             },
             "pattern": {
              "fillmode": "overlay",
              "size": 10,
              "solidity": 0.2
             }
            },
            "type": "bar"
           }
          ],
          "barpolar": [
           {
            "marker": {
             "line": {
              "color": "#E5ECF6",
              "width": 0.5
             },
             "pattern": {
              "fillmode": "overlay",
              "size": 10,
              "solidity": 0.2
             }
            },
            "type": "barpolar"
           }
          ],
          "carpet": [
           {
            "aaxis": {
             "endlinecolor": "#2a3f5f",
             "gridcolor": "white",
             "linecolor": "white",
             "minorgridcolor": "white",
             "startlinecolor": "#2a3f5f"
            },
            "baxis": {
             "endlinecolor": "#2a3f5f",
             "gridcolor": "white",
             "linecolor": "white",
             "minorgridcolor": "white",
             "startlinecolor": "#2a3f5f"
            },
            "type": "carpet"
           }
          ],
          "choropleth": [
           {
            "colorbar": {
             "outlinewidth": 0,
             "ticks": ""
            },
            "type": "choropleth"
           }
          ],
          "contour": [
           {
            "colorbar": {
             "outlinewidth": 0,
             "ticks": ""
            },
            "colorscale": [
             [
              0,
              "#0d0887"
             ],
             [
              0.1111111111111111,
              "#46039f"
             ],
             [
              0.2222222222222222,
              "#7201a8"
             ],
             [
              0.3333333333333333,
              "#9c179e"
             ],
             [
              0.4444444444444444,
              "#bd3786"
             ],
             [
              0.5555555555555556,
              "#d8576b"
             ],
             [
              0.6666666666666666,
              "#ed7953"
             ],
             [
              0.7777777777777778,
              "#fb9f3a"
             ],
             [
              0.8888888888888888,
              "#fdca26"
             ],
             [
              1,
              "#f0f921"
             ]
            ],
            "type": "contour"
           }
          ],
          "contourcarpet": [
           {
            "colorbar": {
             "outlinewidth": 0,
             "ticks": ""
            },
            "type": "contourcarpet"
           }
          ],
          "heatmap": [
           {
            "colorbar": {
             "outlinewidth": 0,
             "ticks": ""
            },
            "colorscale": [
             [
              0,
              "#0d0887"
             ],
             [
              0.1111111111111111,
              "#46039f"
             ],
             [
              0.2222222222222222,
              "#7201a8"
             ],
             [
              0.3333333333333333,
              "#9c179e"
             ],
             [
              0.4444444444444444,
              "#bd3786"
             ],
             [
              0.5555555555555556,
              "#d8576b"
             ],
             [
              0.6666666666666666,
              "#ed7953"
             ],
             [
              0.7777777777777778,
              "#fb9f3a"
             ],
             [
              0.8888888888888888,
              "#fdca26"
             ],
             [
              1,
              "#f0f921"
             ]
            ],
            "type": "heatmap"
           }
          ],
          "heatmapgl": [
           {
            "colorbar": {
             "outlinewidth": 0,
             "ticks": ""
            },
            "colorscale": [
             [
              0,
              "#0d0887"
             ],
             [
              0.1111111111111111,
              "#46039f"
             ],
             [
              0.2222222222222222,
              "#7201a8"
             ],
             [
              0.3333333333333333,
              "#9c179e"
             ],
             [
              0.4444444444444444,
              "#bd3786"
             ],
             [
              0.5555555555555556,
              "#d8576b"
             ],
             [
              0.6666666666666666,
              "#ed7953"
             ],
             [
              0.7777777777777778,
              "#fb9f3a"
             ],
             [
              0.8888888888888888,
              "#fdca26"
             ],
             [
              1,
              "#f0f921"
             ]
            ],
            "type": "heatmapgl"
           }
          ],
          "histogram": [
           {
            "marker": {
             "pattern": {
              "fillmode": "overlay",
              "size": 10,
              "solidity": 0.2
             }
            },
            "type": "histogram"
           }
          ],
          "histogram2d": [
           {
            "colorbar": {
             "outlinewidth": 0,
             "ticks": ""
            },
            "colorscale": [
             [
              0,
              "#0d0887"
             ],
             [
              0.1111111111111111,
              "#46039f"
             ],
             [
              0.2222222222222222,
              "#7201a8"
             ],
             [
              0.3333333333333333,
              "#9c179e"
             ],
             [
              0.4444444444444444,
              "#bd3786"
             ],
             [
              0.5555555555555556,
              "#d8576b"
             ],
             [
              0.6666666666666666,
              "#ed7953"
             ],
             [
              0.7777777777777778,
              "#fb9f3a"
             ],
             [
              0.8888888888888888,
              "#fdca26"
             ],
             [
              1,
              "#f0f921"
             ]
            ],
            "type": "histogram2d"
           }
          ],
          "histogram2dcontour": [
           {
            "colorbar": {
             "outlinewidth": 0,
             "ticks": ""
            },
            "colorscale": [
             [
              0,
              "#0d0887"
             ],
             [
              0.1111111111111111,
              "#46039f"
             ],
             [
              0.2222222222222222,
              "#7201a8"
             ],
             [
              0.3333333333333333,
              "#9c179e"
             ],
             [
              0.4444444444444444,
              "#bd3786"
             ],
             [
              0.5555555555555556,
              "#d8576b"
             ],
             [
              0.6666666666666666,
              "#ed7953"
             ],
             [
              0.7777777777777778,
              "#fb9f3a"
             ],
             [
              0.8888888888888888,
              "#fdca26"
             ],
             [
              1,
              "#f0f921"
             ]
            ],
            "type": "histogram2dcontour"
           }
          ],
          "mesh3d": [
           {
            "colorbar": {
             "outlinewidth": 0,
             "ticks": ""
            },
            "type": "mesh3d"
           }
          ],
          "parcoords": [
           {
            "line": {
             "colorbar": {
              "outlinewidth": 0,
              "ticks": ""
             }
            },
            "type": "parcoords"
           }
          ],
          "pie": [
           {
            "automargin": true,
            "type": "pie"
           }
          ],
          "scatter": [
           {
            "fillpattern": {
             "fillmode": "overlay",
             "size": 10,
             "solidity": 0.2
            },
            "type": "scatter"
           }
          ],
          "scatter3d": [
           {
            "line": {
             "colorbar": {
              "outlinewidth": 0,
              "ticks": ""
             }
            },
            "marker": {
             "colorbar": {
              "outlinewidth": 0,
              "ticks": ""
             }
            },
            "type": "scatter3d"
           }
          ],
          "scattercarpet": [
           {
            "marker": {
             "colorbar": {
              "outlinewidth": 0,
              "ticks": ""
             }
            },
            "type": "scattercarpet"
           }
          ],
          "scattergeo": [
           {
            "marker": {
             "colorbar": {
              "outlinewidth": 0,
              "ticks": ""
             }
            },
            "type": "scattergeo"
           }
          ],
          "scattergl": [
           {
            "marker": {
             "colorbar": {
              "outlinewidth": 0,
              "ticks": ""
             }
            },
            "type": "scattergl"
           }
          ],
          "scattermapbox": [
           {
            "marker": {
             "colorbar": {
              "outlinewidth": 0,
              "ticks": ""
             }
            },
            "type": "scattermapbox"
           }
          ],
          "scatterpolar": [
           {
            "marker": {
             "colorbar": {
              "outlinewidth": 0,
              "ticks": ""
             }
            },
            "type": "scatterpolar"
           }
          ],
          "scatterpolargl": [
           {
            "marker": {
             "colorbar": {
              "outlinewidth": 0,
              "ticks": ""
             }
            },
            "type": "scatterpolargl"
           }
          ],
          "scatterternary": [
           {
            "marker": {
             "colorbar": {
              "outlinewidth": 0,
              "ticks": ""
             }
            },
            "type": "scatterternary"
           }
          ],
          "surface": [
           {
            "colorbar": {
             "outlinewidth": 0,
             "ticks": ""
            },
            "colorscale": [
             [
              0,
              "#0d0887"
             ],
             [
              0.1111111111111111,
              "#46039f"
             ],
             [
              0.2222222222222222,
              "#7201a8"
             ],
             [
              0.3333333333333333,
              "#9c179e"
             ],
             [
              0.4444444444444444,
              "#bd3786"
             ],
             [
              0.5555555555555556,
              "#d8576b"
             ],
             [
              0.6666666666666666,
              "#ed7953"
             ],
             [
              0.7777777777777778,
              "#fb9f3a"
             ],
             [
              0.8888888888888888,
              "#fdca26"
             ],
             [
              1,
              "#f0f921"
             ]
            ],
            "type": "surface"
           }
          ],
          "table": [
           {
            "cells": {
             "fill": {
              "color": "#EBF0F8"
             },
             "line": {
              "color": "white"
             }
            },
            "header": {
             "fill": {
              "color": "#C8D4E3"
             },
             "line": {
              "color": "white"
             }
            },
            "type": "table"
           }
          ]
         },
         "layout": {
          "annotationdefaults": {
           "arrowcolor": "#2a3f5f",
           "arrowhead": 0,
           "arrowwidth": 1
          },
          "autotypenumbers": "strict",
          "coloraxis": {
           "colorbar": {
            "outlinewidth": 0,
            "ticks": ""
           }
          },
          "colorscale": {
           "diverging": [
            [
             0,
             "#8e0152"
            ],
            [
             0.1,
             "#c51b7d"
            ],
            [
             0.2,
             "#de77ae"
            ],
            [
             0.3,
             "#f1b6da"
            ],
            [
             0.4,
             "#fde0ef"
            ],
            [
             0.5,
             "#f7f7f7"
            ],
            [
             0.6,
             "#e6f5d0"
            ],
            [
             0.7,
             "#b8e186"
            ],
            [
             0.8,
             "#7fbc41"
            ],
            [
             0.9,
             "#4d9221"
            ],
            [
             1,
             "#276419"
            ]
           ],
           "sequential": [
            [
             0,
             "#0d0887"
            ],
            [
             0.1111111111111111,
             "#46039f"
            ],
            [
             0.2222222222222222,
             "#7201a8"
            ],
            [
             0.3333333333333333,
             "#9c179e"
            ],
            [
             0.4444444444444444,
             "#bd3786"
            ],
            [
             0.5555555555555556,
             "#d8576b"
            ],
            [
             0.6666666666666666,
             "#ed7953"
            ],
            [
             0.7777777777777778,
             "#fb9f3a"
            ],
            [
             0.8888888888888888,
             "#fdca26"
            ],
            [
             1,
             "#f0f921"
            ]
           ],
           "sequentialminus": [
            [
             0,
             "#0d0887"
            ],
            [
             0.1111111111111111,
             "#46039f"
            ],
            [
             0.2222222222222222,
             "#7201a8"
            ],
            [
             0.3333333333333333,
             "#9c179e"
            ],
            [
             0.4444444444444444,
             "#bd3786"
            ],
            [
             0.5555555555555556,
             "#d8576b"
            ],
            [
             0.6666666666666666,
             "#ed7953"
            ],
            [
             0.7777777777777778,
             "#fb9f3a"
            ],
            [
             0.8888888888888888,
             "#fdca26"
            ],
            [
             1,
             "#f0f921"
            ]
           ]
          },
          "colorway": [
           "#636efa",
           "#EF553B",
           "#00cc96",
           "#ab63fa",
           "#FFA15A",
           "#19d3f3",
           "#FF6692",
           "#B6E880",
           "#FF97FF",
           "#FECB52"
          ],
          "font": {
           "color": "#2a3f5f"
          },
          "geo": {
           "bgcolor": "white",
           "lakecolor": "white",
           "landcolor": "#E5ECF6",
           "showlakes": true,
           "showland": true,
           "subunitcolor": "white"
          },
          "hoverlabel": {
           "align": "left"
          },
          "hovermode": "closest",
          "mapbox": {
           "style": "light"
          },
          "paper_bgcolor": "white",
          "plot_bgcolor": "#E5ECF6",
          "polar": {
           "angularaxis": {
            "gridcolor": "white",
            "linecolor": "white",
            "ticks": ""
           },
           "bgcolor": "#E5ECF6",
           "radialaxis": {
            "gridcolor": "white",
            "linecolor": "white",
            "ticks": ""
           }
          },
          "scene": {
           "xaxis": {
            "backgroundcolor": "#E5ECF6",
            "gridcolor": "white",
            "gridwidth": 2,
            "linecolor": "white",
            "showbackground": true,
            "ticks": "",
            "zerolinecolor": "white"
           },
           "yaxis": {
            "backgroundcolor": "#E5ECF6",
            "gridcolor": "white",
            "gridwidth": 2,
            "linecolor": "white",
            "showbackground": true,
            "ticks": "",
            "zerolinecolor": "white"
           },
           "zaxis": {
            "backgroundcolor": "#E5ECF6",
            "gridcolor": "white",
            "gridwidth": 2,
            "linecolor": "white",
            "showbackground": true,
            "ticks": "",
            "zerolinecolor": "white"
           }
          },
          "shapedefaults": {
           "line": {
            "color": "#2a3f5f"
           }
          },
          "ternary": {
           "aaxis": {
            "gridcolor": "white",
            "linecolor": "white",
            "ticks": ""
           },
           "baxis": {
            "gridcolor": "white",
            "linecolor": "white",
            "ticks": ""
           },
           "bgcolor": "#E5ECF6",
           "caxis": {
            "gridcolor": "white",
            "linecolor": "white",
            "ticks": ""
           }
          },
          "title": {
           "x": 0.05
          },
          "xaxis": {
           "automargin": true,
           "gridcolor": "white",
           "linecolor": "white",
           "ticks": "",
           "title": {
            "standoff": 15
           },
           "zerolinecolor": "white",
           "zerolinewidth": 2
          },
          "yaxis": {
           "automargin": true,
           "gridcolor": "white",
           "linecolor": "white",
           "ticks": "",
           "title": {
            "standoff": 15
           },
           "zerolinecolor": "white",
           "zerolinewidth": 2
          }
         }
        },
        "title": {
         "font": {
          "color": "black",
          "family": "Times New Roman",
          "size": 22
         },
         "text": "Median House Prices by State",
         "x": 0.45
        }
       }
      },
      "text/html": [
       "<div>                            <div id=\"74402faf-c441-447b-a1bc-5e9d7c9cdde4\" class=\"plotly-graph-div\" style=\"height:525px; width:100%;\"></div>            <script type=\"text/javascript\">                require([\"plotly\"], function(Plotly) {                    window.PLOTLYENV=window.PLOTLYENV || {};                                    if (document.getElementById(\"74402faf-c441-447b-a1bc-5e9d7c9cdde4\")) {                    Plotly.newPlot(                        \"74402faf-c441-447b-a1bc-5e9d7c9cdde4\",                        [{\"coloraxis\":\"coloraxis\",\"geo\":\"geo\",\"hovertemplate\":\"state_code=%{location}\\u003cbr\\u003emedian_sale_price=%{z}\\u003cextra\\u003e\\u003c\\u002fextra\\u003e\",\"locationmode\":\"USA-states\",\"locations\":[\"TN\",\"MO\",\"MN\",\"OR\",\"WI\",\"NV\",\"HI\",\"NH\",\"CT\",\"SD\",\"MS\",\"CO\",\"ND\",\"KS\",\"NY\",\"IN\",\"UT\",\"DC\",\"CA\",\"LA\",\"DE\",\"NE\",\"PA\",\"RI\",\"MA\",\"NM\",\"FL\",\"KY\",\"SC\",\"AK\",\"VA\",\"IL\",\"NC\",\"IA\",\"NJ\",\"TX\",\"AL\",\"AZ\",\"OK\",\"OH\",\"VT\",\"ME\",\"WA\",\"MI\",\"MT\",\"WV\",\"MD\",\"ID\",\"AR\",\"GA\"],\"name\":\"\",\"z\":[334100,222800,316700,477100,243300,450800,899300,403900,365600,296500,235300,573000,266600,228300,405700,211900,561500,849900,737700,242700,338900,246900,258700,394600,527400,315200,394500,217700,342400,345700,370200,244700,324000,199700,423400,323400,250600,439200,210600,196300,347200,306500,553500,209000,472000,294600,434800,460200,222800,328300],\"type\":\"choropleth\"}],                        {\"template\":{\"data\":{\"histogram2dcontour\":[{\"type\":\"histogram2dcontour\",\"colorbar\":{\"outlinewidth\":0,\"ticks\":\"\"},\"colorscale\":[[0.0,\"#0d0887\"],[0.1111111111111111,\"#46039f\"],[0.2222222222222222,\"#7201a8\"],[0.3333333333333333,\"#9c179e\"],[0.4444444444444444,\"#bd3786\"],[0.5555555555555556,\"#d8576b\"],[0.6666666666666666,\"#ed7953\"],[0.7777777777777778,\"#fb9f3a\"],[0.8888888888888888,\"#fdca26\"],[1.0,\"#f0f921\"]]}],\"choropleth\":[{\"type\":\"choropleth\",\"colorbar\":{\"outlinewidth\":0,\"ticks\":\"\"}}],\"histogram2d\":[{\"type\":\"histogram2d\",\"colorbar\":{\"outlinewidth\":0,\"ticks\":\"\"},\"colorscale\":[[0.0,\"#0d0887\"],[0.1111111111111111,\"#46039f\"],[0.2222222222222222,\"#7201a8\"],[0.3333333333333333,\"#9c179e\"],[0.4444444444444444,\"#bd3786\"],[0.5555555555555556,\"#d8576b\"],[0.6666666666666666,\"#ed7953\"],[0.7777777777777778,\"#fb9f3a\"],[0.8888888888888888,\"#fdca26\"],[1.0,\"#f0f921\"]]}],\"heatmap\":[{\"type\":\"heatmap\",\"colorbar\":{\"outlinewidth\":0,\"ticks\":\"\"},\"colorscale\":[[0.0,\"#0d0887\"],[0.1111111111111111,\"#46039f\"],[0.2222222222222222,\"#7201a8\"],[0.3333333333333333,\"#9c179e\"],[0.4444444444444444,\"#bd3786\"],[0.5555555555555556,\"#d8576b\"],[0.6666666666666666,\"#ed7953\"],[0.7777777777777778,\"#fb9f3a\"],[0.8888888888888888,\"#fdca26\"],[1.0,\"#f0f921\"]]}],\"heatmapgl\":[{\"type\":\"heatmapgl\",\"colorbar\":{\"outlinewidth\":0,\"ticks\":\"\"},\"colorscale\":[[0.0,\"#0d0887\"],[0.1111111111111111,\"#46039f\"],[0.2222222222222222,\"#7201a8\"],[0.3333333333333333,\"#9c179e\"],[0.4444444444444444,\"#bd3786\"],[0.5555555555555556,\"#d8576b\"],[0.6666666666666666,\"#ed7953\"],[0.7777777777777778,\"#fb9f3a\"],[0.8888888888888888,\"#fdca26\"],[1.0,\"#f0f921\"]]}],\"contourcarpet\":[{\"type\":\"contourcarpet\",\"colorbar\":{\"outlinewidth\":0,\"ticks\":\"\"}}],\"contour\":[{\"type\":\"contour\",\"colorbar\":{\"outlinewidth\":0,\"ticks\":\"\"},\"colorscale\":[[0.0,\"#0d0887\"],[0.1111111111111111,\"#46039f\"],[0.2222222222222222,\"#7201a8\"],[0.3333333333333333,\"#9c179e\"],[0.4444444444444444,\"#bd3786\"],[0.5555555555555556,\"#d8576b\"],[0.6666666666666666,\"#ed7953\"],[0.7777777777777778,\"#fb9f3a\"],[0.8888888888888888,\"#fdca26\"],[1.0,\"#f0f921\"]]}],\"surface\":[{\"type\":\"surface\",\"colorbar\":{\"outlinewidth\":0,\"ticks\":\"\"},\"colorscale\":[[0.0,\"#0d0887\"],[0.1111111111111111,\"#46039f\"],[0.2222222222222222,\"#7201a8\"],[0.3333333333333333,\"#9c179e\"],[0.4444444444444444,\"#bd3786\"],[0.5555555555555556,\"#d8576b\"],[0.6666666666666666,\"#ed7953\"],[0.7777777777777778,\"#fb9f3a\"],[0.8888888888888888,\"#fdca26\"],[1.0,\"#f0f921\"]]}],\"mesh3d\":[{\"type\":\"mesh3d\",\"colorbar\":{\"outlinewidth\":0,\"ticks\":\"\"}}],\"scatter\":[{\"fillpattern\":{\"fillmode\":\"overlay\",\"size\":10,\"solidity\":0.2},\"type\":\"scatter\"}],\"parcoords\":[{\"type\":\"parcoords\",\"line\":{\"colorbar\":{\"outlinewidth\":0,\"ticks\":\"\"}}}],\"scatterpolargl\":[{\"type\":\"scatterpolargl\",\"marker\":{\"colorbar\":{\"outlinewidth\":0,\"ticks\":\"\"}}}],\"bar\":[{\"error_x\":{\"color\":\"#2a3f5f\"},\"error_y\":{\"color\":\"#2a3f5f\"},\"marker\":{\"line\":{\"color\":\"#E5ECF6\",\"width\":0.5},\"pattern\":{\"fillmode\":\"overlay\",\"size\":10,\"solidity\":0.2}},\"type\":\"bar\"}],\"scattergeo\":[{\"type\":\"scattergeo\",\"marker\":{\"colorbar\":{\"outlinewidth\":0,\"ticks\":\"\"}}}],\"scatterpolar\":[{\"type\":\"scatterpolar\",\"marker\":{\"colorbar\":{\"outlinewidth\":0,\"ticks\":\"\"}}}],\"histogram\":[{\"marker\":{\"pattern\":{\"fillmode\":\"overlay\",\"size\":10,\"solidity\":0.2}},\"type\":\"histogram\"}],\"scattergl\":[{\"type\":\"scattergl\",\"marker\":{\"colorbar\":{\"outlinewidth\":0,\"ticks\":\"\"}}}],\"scatter3d\":[{\"type\":\"scatter3d\",\"line\":{\"colorbar\":{\"outlinewidth\":0,\"ticks\":\"\"}},\"marker\":{\"colorbar\":{\"outlinewidth\":0,\"ticks\":\"\"}}}],\"scattermapbox\":[{\"type\":\"scattermapbox\",\"marker\":{\"colorbar\":{\"outlinewidth\":0,\"ticks\":\"\"}}}],\"scatterternary\":[{\"type\":\"scatterternary\",\"marker\":{\"colorbar\":{\"outlinewidth\":0,\"ticks\":\"\"}}}],\"scattercarpet\":[{\"type\":\"scattercarpet\",\"marker\":{\"colorbar\":{\"outlinewidth\":0,\"ticks\":\"\"}}}],\"carpet\":[{\"aaxis\":{\"endlinecolor\":\"#2a3f5f\",\"gridcolor\":\"white\",\"linecolor\":\"white\",\"minorgridcolor\":\"white\",\"startlinecolor\":\"#2a3f5f\"},\"baxis\":{\"endlinecolor\":\"#2a3f5f\",\"gridcolor\":\"white\",\"linecolor\":\"white\",\"minorgridcolor\":\"white\",\"startlinecolor\":\"#2a3f5f\"},\"type\":\"carpet\"}],\"table\":[{\"cells\":{\"fill\":{\"color\":\"#EBF0F8\"},\"line\":{\"color\":\"white\"}},\"header\":{\"fill\":{\"color\":\"#C8D4E3\"},\"line\":{\"color\":\"white\"}},\"type\":\"table\"}],\"barpolar\":[{\"marker\":{\"line\":{\"color\":\"#E5ECF6\",\"width\":0.5},\"pattern\":{\"fillmode\":\"overlay\",\"size\":10,\"solidity\":0.2}},\"type\":\"barpolar\"}],\"pie\":[{\"automargin\":true,\"type\":\"pie\"}]},\"layout\":{\"autotypenumbers\":\"strict\",\"colorway\":[\"#636efa\",\"#EF553B\",\"#00cc96\",\"#ab63fa\",\"#FFA15A\",\"#19d3f3\",\"#FF6692\",\"#B6E880\",\"#FF97FF\",\"#FECB52\"],\"font\":{\"color\":\"#2a3f5f\"},\"hovermode\":\"closest\",\"hoverlabel\":{\"align\":\"left\"},\"paper_bgcolor\":\"white\",\"plot_bgcolor\":\"#E5ECF6\",\"polar\":{\"bgcolor\":\"#E5ECF6\",\"angularaxis\":{\"gridcolor\":\"white\",\"linecolor\":\"white\",\"ticks\":\"\"},\"radialaxis\":{\"gridcolor\":\"white\",\"linecolor\":\"white\",\"ticks\":\"\"}},\"ternary\":{\"bgcolor\":\"#E5ECF6\",\"aaxis\":{\"gridcolor\":\"white\",\"linecolor\":\"white\",\"ticks\":\"\"},\"baxis\":{\"gridcolor\":\"white\",\"linecolor\":\"white\",\"ticks\":\"\"},\"caxis\":{\"gridcolor\":\"white\",\"linecolor\":\"white\",\"ticks\":\"\"}},\"coloraxis\":{\"colorbar\":{\"outlinewidth\":0,\"ticks\":\"\"}},\"colorscale\":{\"sequential\":[[0.0,\"#0d0887\"],[0.1111111111111111,\"#46039f\"],[0.2222222222222222,\"#7201a8\"],[0.3333333333333333,\"#9c179e\"],[0.4444444444444444,\"#bd3786\"],[0.5555555555555556,\"#d8576b\"],[0.6666666666666666,\"#ed7953\"],[0.7777777777777778,\"#fb9f3a\"],[0.8888888888888888,\"#fdca26\"],[1.0,\"#f0f921\"]],\"sequentialminus\":[[0.0,\"#0d0887\"],[0.1111111111111111,\"#46039f\"],[0.2222222222222222,\"#7201a8\"],[0.3333333333333333,\"#9c179e\"],[0.4444444444444444,\"#bd3786\"],[0.5555555555555556,\"#d8576b\"],[0.6666666666666666,\"#ed7953\"],[0.7777777777777778,\"#fb9f3a\"],[0.8888888888888888,\"#fdca26\"],[1.0,\"#f0f921\"]],\"diverging\":[[0,\"#8e0152\"],[0.1,\"#c51b7d\"],[0.2,\"#de77ae\"],[0.3,\"#f1b6da\"],[0.4,\"#fde0ef\"],[0.5,\"#f7f7f7\"],[0.6,\"#e6f5d0\"],[0.7,\"#b8e186\"],[0.8,\"#7fbc41\"],[0.9,\"#4d9221\"],[1,\"#276419\"]]},\"xaxis\":{\"gridcolor\":\"white\",\"linecolor\":\"white\",\"ticks\":\"\",\"title\":{\"standoff\":15},\"zerolinecolor\":\"white\",\"automargin\":true,\"zerolinewidth\":2},\"yaxis\":{\"gridcolor\":\"white\",\"linecolor\":\"white\",\"ticks\":\"\",\"title\":{\"standoff\":15},\"zerolinecolor\":\"white\",\"automargin\":true,\"zerolinewidth\":2},\"scene\":{\"xaxis\":{\"backgroundcolor\":\"#E5ECF6\",\"gridcolor\":\"white\",\"linecolor\":\"white\",\"showbackground\":true,\"ticks\":\"\",\"zerolinecolor\":\"white\",\"gridwidth\":2},\"yaxis\":{\"backgroundcolor\":\"#E5ECF6\",\"gridcolor\":\"white\",\"linecolor\":\"white\",\"showbackground\":true,\"ticks\":\"\",\"zerolinecolor\":\"white\",\"gridwidth\":2},\"zaxis\":{\"backgroundcolor\":\"#E5ECF6\",\"gridcolor\":\"white\",\"linecolor\":\"white\",\"showbackground\":true,\"ticks\":\"\",\"zerolinecolor\":\"white\",\"gridwidth\":2}},\"shapedefaults\":{\"line\":{\"color\":\"#2a3f5f\"}},\"annotationdefaults\":{\"arrowcolor\":\"#2a3f5f\",\"arrowhead\":0,\"arrowwidth\":1},\"geo\":{\"bgcolor\":\"white\",\"landcolor\":\"#E5ECF6\",\"subunitcolor\":\"white\",\"showland\":true,\"showlakes\":true,\"lakecolor\":\"white\"},\"title\":{\"x\":0.05},\"mapbox\":{\"style\":\"light\"}}},\"geo\":{\"domain\":{\"x\":[0.0,1.0],\"y\":[0.0,1.0]},\"center\":{},\"scope\":\"usa\"},\"coloraxis\":{\"colorbar\":{\"title\":{\"text\":\"median_sale_price\"}},\"colorscale\":[[0.0,\"#fde725\"],[0.1111111111111111,\"#b5de2b\"],[0.2222222222222222,\"#6ece58\"],[0.3333333333333333,\"#35b779\"],[0.4444444444444444,\"#1f9e89\"],[0.5555555555555556,\"#26828e\"],[0.6666666666666666,\"#31688e\"],[0.7777777777777778,\"#3e4989\"],[0.8888888888888888,\"#482878\"],[1.0,\"#440154\"]]},\"legend\":{\"tracegroupgap\":0},\"margin\":{\"t\":60},\"title\":{\"font\":{\"family\":\"Times New Roman\",\"size\":22,\"color\":\"black\"},\"text\":\"Median House Prices by State\",\"x\":0.45}},                        {\"responsive\": true}                    ).then(function(){\n",
       "                            \n",
       "var gd = document.getElementById('74402faf-c441-447b-a1bc-5e9d7c9cdde4');\n",
       "var x = new MutationObserver(function (mutations, observer) {{\n",
       "        var display = window.getComputedStyle(gd).display;\n",
       "        if (!display || display === 'none') {{\n",
       "            console.log([gd, 'removed!']);\n",
       "            Plotly.purge(gd);\n",
       "            observer.disconnect();\n",
       "        }}\n",
       "}});\n",
       "\n",
       "// Listen for the removal of the full notebook cells\n",
       "var notebookContainer = gd.closest('#notebook-container');\n",
       "if (notebookContainer) {{\n",
       "    x.observe(notebookContainer, {childList: true});\n",
       "}}\n",
       "\n",
       "// Listen for the clearing of the current output cell\n",
       "var outputEl = gd.closest('.output');\n",
       "if (outputEl) {{\n",
       "    x.observe(outputEl, {childList: true});\n",
       "}}\n",
       "\n",
       "                        })                };                });            </script>        </div>"
      ]
     },
     "metadata": {},
     "output_type": "display_data"
    }
   ],
   "source": [
    "fig = px.choropleth(df,\n",
    "                    locations='state_code', \n",
    "                    locationmode=\"USA-states\", \n",
    "                    scope=\"usa\",\n",
    "                    color='median_sale_price',\n",
    "                    color_continuous_scale=\"Viridis_r\", \n",
    "                    \n",
    "                    )\n",
    "fig.update_layout(\n",
    "      title_text = 'Median House Prices by State',\n",
    "      title_font_family=\"Times New Roman\",\n",
    "      title_font_size = 22,\n",
    "      title_font_color=\"black\", \n",
    "      title_x=0.45, \n",
    "         )\n",
    "fig.show()"
   ]
  },
  {
   "cell_type": "markdown",
   "id": "72b4ce85",
   "metadata": {},
   "source": [
    "**From this visual, we get a gist that the western part of the country is expensive in comparision to the eastern part. While Hawaii had the highest median sale price for each house sold.**"
   ]
  },
  {
   "cell_type": "markdown",
   "id": "bcd9bec7",
   "metadata": {},
   "source": [
    "Let us find which type of property is sold the most "
   ]
  },
  {
   "cell_type": "code",
   "execution_count": 66,
   "id": "8ffba6de-eb28-4935-9c74-502a05fb19ce",
   "metadata": {},
   "outputs": [
    {
     "data": {
      "text/plain": [
       "<AxesSubplot: ylabel='homes_sold'>"
      ]
     },
     "execution_count": 66,
     "metadata": {},
     "output_type": "execute_result"
    },
    {
     "data": {
      "image/png": "[encoded data removed]",
      "text/plain": [
       "<Figure size 640x480 with 1 Axes>"
      ]
     },
     "metadata": {},
     "output_type": "display_data"
    }
   ],
   "source": [
    "grouped_property = df1.groupby('property_type')['homes_sold'].sum() #To group the property and find the total number of houses for each category.\n",
    "grouped_property.plot(kind='pie', startangle=140)"
   ]
  },
  {
   "cell_type": "markdown",
   "id": "218f0a44",
   "metadata": {},
   "source": [
    "**From this graph we understand that `All Residential` type was most sold throughout the United State in year 2022**"
   ]
  },
  {
   "cell_type": "markdown",
   "id": "76d7b69c",
   "metadata": {},
   "source": [
    "## Data Analysis\n",
    "\n",
    "* Let us determine which state has recorded the highest number of houses sold across all types of properties."
   ]
  },
  {
   "cell_type": "code",
   "execution_count": 67,
   "id": "a2e2088f",
   "metadata": {},
   "outputs": [
    {
     "name": "stdout",
     "output_type": "stream",
     "text": [
      "state\n",
      "Florida           66171\n",
      "California        49982\n",
      "Texas             48103\n",
      "New York          26513\n",
      "North Carolina    25242\n",
      "Illinois          21687\n",
      "Georgia           21053\n",
      "Pennsylvania      20832\n",
      "Ohio              19355\n",
      "Arizona           18833\n",
      "Michigan          17761\n",
      "New Jersey        17664\n",
      "Virginia          17046\n",
      "Tennessee         14122\n",
      "Washington        13526\n",
      "Indiana           11909\n",
      "South Carolina    11595\n",
      "Maryland          11583\n",
      "Colorado          11259\n",
      "Missouri          10804\n",
      "Massachusetts     10577\n",
      "Alabama            9280\n",
      "Wisconsin          8966\n",
      "Nevada             8504\n",
      "Minnesota          8457\n",
      "Oregon             8405\n",
      "Oklahoma           7559\n",
      "Connecticut        7224\n",
      "Kentucky           7119\n",
      "Louisiana          6625\n",
      "Utah               5536\n",
      "Arkansas           5402\n",
      "Iowa               5042\n",
      "Kansas             4579\n",
      "Idaho              4461\n",
      "Hawaii             2813\n",
      "Nebraska           2672\n",
      "Maine              2634\n",
      "Mississippi        2561\n",
      "New Hampshire      2483\n",
      "Rhode Island       2244\n",
      "New Mexico         1800\n",
      "Montana            1771\n",
      "Delaware           1372\n",
      "Alaska             1231\n",
      "Columbia           1212\n",
      "Vermont            1139\n",
      "South Dakota       1128\n",
      "West Virginia       688\n",
      "North Dakota        424\n",
      "Name: homes_sold, dtype: int64\n"
     ]
    }
   ],
   "source": [
    "grouped_state = df1.groupby(['state'])['homes_sold'].sum()\n",
    "print(grouped_state.sort_values(ascending=False))"
   ]
  },
  {
   "cell_type": "markdown",
   "id": "d4214895",
   "metadata": {},
   "source": [
    "**`Florida` has the highest number of sales**"
   ]
  },
  {
   "cell_type": "markdown",
   "id": "3cb05071",
   "metadata": {},
   "source": [
    "* Let us find out the sector in Florida` that has given thehighest number of sales."
   ]
  },
  {
   "cell_type": "code",
   "execution_count": 68,
   "id": "94b27c31-38f5-4d5a-8c2e-099f112a13bf",
   "metadata": {},
   "outputs": [
    {
     "name": "stdout",
     "output_type": "stream",
     "text": [
      "property_type\n",
      "All Residential              33118\n",
      "Condo/Co-op                   7710\n",
      "Multi-Family (2-4 Unit)        465\n",
      "Single Family Residential    22246\n",
      "Townhouse                     2632\n",
      "Name: homes_sold, dtype: int64\n"
     ]
    }
   ],
   "source": [
    "grouped = df1.groupby(['state', 'property_type'])['homes_sold'].sum()\n",
    "print(grouped['Florida'])"
   ]
  },
  {
   "cell_type": "markdown",
   "id": "06eef63c",
   "metadata": {},
   "source": [
    "**From this we can understand that `All Residential` brings the highest number of sales**"
   ]
  },
  {
   "cell_type": "markdown",
   "id": "36218d8d",
   "metadata": {},
   "source": [
    "* Let us find out which state has the highest number of `All Residential Sales`"
   ]
  },
  {
   "cell_type": "code",
   "execution_count": 69,
   "id": "7944fe55",
   "metadata": {},
   "outputs": [
    {
     "name": "stdout",
     "output_type": "stream",
     "text": [
      "state           property_type  \n",
      "Florida         All Residential    33118\n",
      "California      All Residential    25023\n",
      "Texas           All Residential    24090\n",
      "New York        All Residential    13270\n",
      "North Carolina  All Residential    12659\n",
      "Illinois        All Residential    10874\n",
      "Georgia         All Residential    10558\n",
      "Pennsylvania    All Residential    10431\n",
      "Ohio            All Residential     9708\n",
      "Arizona         All Residential     9420\n",
      "Michigan        All Residential     8905\n",
      "New Jersey      All Residential     8833\n",
      "Virginia        All Residential     8555\n",
      "Tennessee       All Residential     7086\n",
      "Washington      All Residential     6775\n",
      "Indiana         All Residential     5978\n",
      "South Carolina  All Residential     5808\n",
      "Maryland        All Residential     5797\n",
      "Colorado        All Residential     5638\n",
      "Missouri        All Residential     5420\n",
      "Massachusetts   All Residential     5292\n",
      "Alabama         All Residential     4644\n",
      "Wisconsin       All Residential     4496\n",
      "Nevada          All Residential     4254\n",
      "Minnesota       All Residential     4249\n",
      "Oregon          All Residential     4209\n",
      "Oklahoma        All Residential     3790\n",
      "Connecticut     All Residential     3612\n",
      "Kentucky        All Residential     3579\n",
      "Louisiana       All Residential     3321\n",
      "Utah            All Residential     2772\n",
      "Arkansas        All Residential     2714\n",
      "Iowa            All Residential     2536\n",
      "Kansas          All Residential     2298\n",
      "Idaho           All Residential     2233\n",
      "Hawaii          All Residential     1407\n",
      "Nebraska        All Residential     1342\n",
      "Maine           All Residential     1325\n",
      "Mississippi     All Residential     1297\n",
      "New Hampshire   All Residential     1243\n",
      "Rhode Island    All Residential     1122\n",
      "New Mexico      All Residential      911\n",
      "Montana         All Residential      897\n",
      "Delaware        All Residential      686\n",
      "Alaska          All Residential      616\n",
      "Columbia        All Residential      606\n",
      "Vermont         All Residential      578\n",
      "South Dakota    All Residential      570\n",
      "West Virginia   All Residential      346\n",
      "North Dakota    All Residential      219\n",
      "Name: homes_sold, dtype: int64\n"
     ]
    }
   ],
   "source": [
    "AR_grouped = grouped[grouped.index.get_level_values('property_type') == 'All Residential'].sort_values(ascending=False)\n",
    "print(AR_grouped)"
   ]
  },
  {
   "cell_type": "markdown",
   "id": "2545b4af",
   "metadata": {},
   "source": [
    "**Hence, `Florida` has the highest sales among all the states**"
   ]
  },
  {
   "cell_type": "markdown",
   "id": "584dff88",
   "metadata": {},
   "source": [
    "## Conclusion and Bias\n",
    "We can derive a number of conclusions from the data analysis shown above. Particularly, Florida emerges as a significant market for real estate transactions. The observation that Florida's median home prices roughly match the national average serves as support for this judgement. Florida therefore displays a higher rate of real estate investment activity than other states. This pattern can be seen in a variety of property kinds, such as \"All Residential\" and \"Single Family Residential\" homes.\n",
    "\n",
    "It is vital to understand that the dataset's values determine whether or not these findings hold true. Any changes to the data, such as the inclusion of new numbers or adjustments, may have an effect on the patterns and conclusions that have been detected."
   ]
  },
  {
   "cell_type": "markdown",
   "id": "0f9fff8b",
   "metadata": {},
   "source": [
    "\n",
    "## Citations\n",
    "\n",
    "* https://dspace.mit.edu/bitstream/handle/1721.1/129099/1227098997-MIT.pdf?sequence=1&isAllowed=y\n",
    "\n",
    "* https://www.knowledgehut.com/blog/data-science/data-science-in-real-estate\n",
    "\n",
    "* https://www.redfin.com/news/data-center/\n"
   ]
  }
 ],
 "metadata": {
  "kernelspec": {
   "display_name": "Python 3 (ipykernel)",
   "language": "python",
   "name": "python3"
  },
  "language_info": {
   "codemirror_mode": {
    "name": "ipython",
    "version": 3
   },
   "file_extension": ".py",
   "mimetype": "text/x-python",
   "name": "python",
   "nbconvert_exporter": "python",
   "pygments_lexer": "ipython3",
   "version": "3.10.11"
  }
 },
 "nbformat": 4,
 "nbformat_minor": 5
}
